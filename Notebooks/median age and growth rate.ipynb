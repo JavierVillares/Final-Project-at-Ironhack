{
 "cells": [
  {
   "cell_type": "code",
   "execution_count": 11,
   "metadata": {},
   "outputs": [],
   "source": [
    "import pandas as pd\n",
    "import numpy as np\n",
    "import warnings\n",
    "\n",
    "warnings.simplefilter(action='ignore', category=FutureWarning)"
   ]
  },
  {
   "cell_type": "code",
   "execution_count": 12,
   "metadata": {},
   "outputs": [
    {
     "data": {
      "text/html": [
       "<div>\n",
       "<style scoped>\n",
       "    .dataframe tbody tr th:only-of-type {\n",
       "        vertical-align: middle;\n",
       "    }\n",
       "\n",
       "    .dataframe tbody tr th {\n",
       "        vertical-align: top;\n",
       "    }\n",
       "\n",
       "    .dataframe thead th {\n",
       "        text-align: right;\n",
       "    }\n",
       "</style>\n",
       "<table border=\"1\" class=\"dataframe\">\n",
       "  <thead>\n",
       "    <tr style=\"text-align: right;\">\n",
       "      <th></th>\n",
       "      <th>Entity</th>\n",
       "      <th>Year</th>\n",
       "      <th>Natural growth rate - Sex: all - Age: all - Variant: estimates</th>\n",
       "      <th>Median age - Sex: all - Age: all - Variant: estimates</th>\n",
       "    </tr>\n",
       "  </thead>\n",
       "  <tbody>\n",
       "    <tr>\n",
       "      <th>0</th>\n",
       "      <td>Afghanistan</td>\n",
       "      <td>1950.0</td>\n",
       "      <td>1.09</td>\n",
       "      <td>18.4</td>\n",
       "    </tr>\n",
       "    <tr>\n",
       "      <th>1</th>\n",
       "      <td>Afghanistan</td>\n",
       "      <td>1951.0</td>\n",
       "      <td>1.18</td>\n",
       "      <td>18.4</td>\n",
       "    </tr>\n",
       "    <tr>\n",
       "      <th>2</th>\n",
       "      <td>Afghanistan</td>\n",
       "      <td>1952.0</td>\n",
       "      <td>1.27</td>\n",
       "      <td>18.4</td>\n",
       "    </tr>\n",
       "    <tr>\n",
       "      <th>3</th>\n",
       "      <td>Afghanistan</td>\n",
       "      <td>1953.0</td>\n",
       "      <td>1.35</td>\n",
       "      <td>18.3</td>\n",
       "    </tr>\n",
       "    <tr>\n",
       "      <th>4</th>\n",
       "      <td>Afghanistan</td>\n",
       "      <td>1954.0</td>\n",
       "      <td>1.40</td>\n",
       "      <td>18.3</td>\n",
       "    </tr>\n",
       "    <tr>\n",
       "      <th>...</th>\n",
       "      <td>...</td>\n",
       "      <td>...</td>\n",
       "      <td>...</td>\n",
       "      <td>...</td>\n",
       "    </tr>\n",
       "    <tr>\n",
       "      <th>58330</th>\n",
       "      <td>Zimbabwe</td>\n",
       "      <td>1945.0</td>\n",
       "      <td>NaN</td>\n",
       "      <td>NaN</td>\n",
       "    </tr>\n",
       "    <tr>\n",
       "      <th>58331</th>\n",
       "      <td>Zimbabwe</td>\n",
       "      <td>1946.0</td>\n",
       "      <td>NaN</td>\n",
       "      <td>NaN</td>\n",
       "    </tr>\n",
       "    <tr>\n",
       "      <th>58332</th>\n",
       "      <td>Zimbabwe</td>\n",
       "      <td>1947.0</td>\n",
       "      <td>NaN</td>\n",
       "      <td>NaN</td>\n",
       "    </tr>\n",
       "    <tr>\n",
       "      <th>58333</th>\n",
       "      <td>Zimbabwe</td>\n",
       "      <td>1948.0</td>\n",
       "      <td>NaN</td>\n",
       "      <td>NaN</td>\n",
       "    </tr>\n",
       "    <tr>\n",
       "      <th>58334</th>\n",
       "      <td>Zimbabwe</td>\n",
       "      <td>1949.0</td>\n",
       "      <td>NaN</td>\n",
       "      <td>NaN</td>\n",
       "    </tr>\n",
       "  </tbody>\n",
       "</table>\n",
       "<p>58335 rows × 4 columns</p>\n",
       "</div>"
      ],
      "text/plain": [
       "            Entity    Year  \\\n",
       "0      Afghanistan  1950.0   \n",
       "1      Afghanistan  1951.0   \n",
       "2      Afghanistan  1952.0   \n",
       "3      Afghanistan  1953.0   \n",
       "4      Afghanistan  1954.0   \n",
       "...            ...     ...   \n",
       "58330     Zimbabwe  1945.0   \n",
       "58331     Zimbabwe  1946.0   \n",
       "58332     Zimbabwe  1947.0   \n",
       "58333     Zimbabwe  1948.0   \n",
       "58334     Zimbabwe  1949.0   \n",
       "\n",
       "       Natural growth rate - Sex: all - Age: all - Variant: estimates  \\\n",
       "0                                                   1.09                \n",
       "1                                                   1.18                \n",
       "2                                                   1.27                \n",
       "3                                                   1.35                \n",
       "4                                                   1.40                \n",
       "...                                                  ...                \n",
       "58330                                                NaN                \n",
       "58331                                                NaN                \n",
       "58332                                                NaN                \n",
       "58333                                                NaN                \n",
       "58334                                                NaN                \n",
       "\n",
       "       Median age - Sex: all - Age: all - Variant: estimates  \n",
       "0                                                   18.4      \n",
       "1                                                   18.4      \n",
       "2                                                   18.4      \n",
       "3                                                   18.3      \n",
       "4                                                   18.3      \n",
       "...                                                  ...      \n",
       "58330                                                NaN      \n",
       "58331                                                NaN      \n",
       "58332                                                NaN      \n",
       "58333                                                NaN      \n",
       "58334                                                NaN      \n",
       "\n",
       "[58335 rows x 4 columns]"
      ]
     },
     "execution_count": 12,
     "metadata": {},
     "output_type": "execute_result"
    }
   ],
   "source": [
    "url = ('/Users/javi/Desktop/Ironhack/Entregas_de_github/Final-Project-at-Ironhack/Data/Raw data/World demographic/population-growth-rate-vs-median-age.csv')\n",
    "df = pd.read_csv(url, sep=';')\n",
    "df"
   ]
  },
  {
   "cell_type": "code",
   "execution_count": 13,
   "metadata": {},
   "outputs": [],
   "source": [
    "df_filtered = df[(df['Year'] >= 1980) & (df['Year'] <= 2021)]"
   ]
  },
  {
   "cell_type": "code",
   "execution_count": 14,
   "metadata": {},
   "outputs": [
    {
     "name": "stderr",
     "output_type": "stream",
     "text": [
      "/var/folders/23/ykjhg9v57tn3wfmhgxtgj1s80000gn/T/ipykernel_27359/4041423871.py:1: SettingWithCopyWarning: \n",
      "A value is trying to be set on a copy of a slice from a DataFrame\n",
      "\n",
      "See the caveats in the documentation: https://pandas.pydata.org/pandas-docs/stable/user_guide/indexing.html#returning-a-view-versus-a-copy\n",
      "  df_filtered.rename(columns={\n"
     ]
    }
   ],
   "source": [
    "df_filtered.rename(columns={\n",
    "    'Natural growth rate - Sex: all - Age: all - Variant: estimates': 'Natural Growth Rate',\n",
    "    'Median age - Sex: all - Age: all - Variant: estimates': 'Median Age',\n",
    "    'Entity': 'Country Name'\n",
    "}, inplace=True)"
   ]
  },
  {
   "cell_type": "code",
   "execution_count": 15,
   "metadata": {},
   "outputs": [
    {
     "data": {
      "text/html": [
       "<div>\n",
       "<style scoped>\n",
       "    .dataframe tbody tr th:only-of-type {\n",
       "        vertical-align: middle;\n",
       "    }\n",
       "\n",
       "    .dataframe tbody tr th {\n",
       "        vertical-align: top;\n",
       "    }\n",
       "\n",
       "    .dataframe thead th {\n",
       "        text-align: right;\n",
       "    }\n",
       "</style>\n",
       "<table border=\"1\" class=\"dataframe\">\n",
       "  <thead>\n",
       "    <tr style=\"text-align: right;\">\n",
       "      <th></th>\n",
       "      <th>Country Name</th>\n",
       "      <th>Year</th>\n",
       "      <th>Natural Growth Rate</th>\n",
       "      <th>Median Age</th>\n",
       "    </tr>\n",
       "  </thead>\n",
       "  <tbody>\n",
       "    <tr>\n",
       "      <th>30</th>\n",
       "      <td>Afghanistan</td>\n",
       "      <td>1980.0</td>\n",
       "      <td>2.63</td>\n",
       "      <td>15.9</td>\n",
       "    </tr>\n",
       "    <tr>\n",
       "      <th>31</th>\n",
       "      <td>Afghanistan</td>\n",
       "      <td>1981.0</td>\n",
       "      <td>2.67</td>\n",
       "      <td>15.8</td>\n",
       "    </tr>\n",
       "    <tr>\n",
       "      <th>32</th>\n",
       "      <td>Afghanistan</td>\n",
       "      <td>1982.0</td>\n",
       "      <td>2.45</td>\n",
       "      <td>15.7</td>\n",
       "    </tr>\n",
       "    <tr>\n",
       "      <th>33</th>\n",
       "      <td>Afghanistan</td>\n",
       "      <td>1983.0</td>\n",
       "      <td>2.50</td>\n",
       "      <td>15.6</td>\n",
       "    </tr>\n",
       "    <tr>\n",
       "      <th>34</th>\n",
       "      <td>Afghanistan</td>\n",
       "      <td>1984.0</td>\n",
       "      <td>2.02</td>\n",
       "      <td>15.5</td>\n",
       "    </tr>\n",
       "    <tr>\n",
       "      <th>...</th>\n",
       "      <td>...</td>\n",
       "      <td>...</td>\n",
       "      <td>...</td>\n",
       "      <td>...</td>\n",
       "    </tr>\n",
       "    <tr>\n",
       "      <th>58143</th>\n",
       "      <td>Zimbabwe</td>\n",
       "      <td>2017.0</td>\n",
       "      <td>2.42</td>\n",
       "      <td>17.3</td>\n",
       "    </tr>\n",
       "    <tr>\n",
       "      <th>58144</th>\n",
       "      <td>Zimbabwe</td>\n",
       "      <td>2018.0</td>\n",
       "      <td>2.41</td>\n",
       "      <td>17.5</td>\n",
       "    </tr>\n",
       "    <tr>\n",
       "      <th>58145</th>\n",
       "      <td>Zimbabwe</td>\n",
       "      <td>2019.0</td>\n",
       "      <td>2.35</td>\n",
       "      <td>17.7</td>\n",
       "    </tr>\n",
       "    <tr>\n",
       "      <th>58146</th>\n",
       "      <td>Zimbabwe</td>\n",
       "      <td>2020.0</td>\n",
       "      <td>2.29</td>\n",
       "      <td>17.9</td>\n",
       "    </tr>\n",
       "    <tr>\n",
       "      <th>58147</th>\n",
       "      <td>Zimbabwe</td>\n",
       "      <td>2021.0</td>\n",
       "      <td>2.15</td>\n",
       "      <td>18.1</td>\n",
       "    </tr>\n",
       "  </tbody>\n",
       "</table>\n",
       "<p>11147 rows × 4 columns</p>\n",
       "</div>"
      ],
      "text/plain": [
       "      Country Name    Year  Natural Growth Rate  Median Age\n",
       "30     Afghanistan  1980.0                 2.63        15.9\n",
       "31     Afghanistan  1981.0                 2.67        15.8\n",
       "32     Afghanistan  1982.0                 2.45        15.7\n",
       "33     Afghanistan  1983.0                 2.50        15.6\n",
       "34     Afghanistan  1984.0                 2.02        15.5\n",
       "...            ...     ...                  ...         ...\n",
       "58143     Zimbabwe  2017.0                 2.42        17.3\n",
       "58144     Zimbabwe  2018.0                 2.41        17.5\n",
       "58145     Zimbabwe  2019.0                 2.35        17.7\n",
       "58146     Zimbabwe  2020.0                 2.29        17.9\n",
       "58147     Zimbabwe  2021.0                 2.15        18.1\n",
       "\n",
       "[11147 rows x 4 columns]"
      ]
     },
     "execution_count": 15,
     "metadata": {},
     "output_type": "execute_result"
    }
   ],
   "source": [
    "df_filtered"
   ]
  },
  {
   "cell_type": "code",
   "execution_count": 16,
   "metadata": {},
   "outputs": [
    {
     "data": {
      "text/plain": [
       "True"
      ]
     },
     "execution_count": 16,
     "metadata": {},
     "output_type": "execute_result"
    }
   ],
   "source": [
    "df_filtered.isnull().values.any()"
   ]
  },
  {
   "cell_type": "code",
   "execution_count": 17,
   "metadata": {},
   "outputs": [
    {
     "data": {
      "text/plain": [
       "Country Name             0\n",
       "Year                     0\n",
       "Natural Growth Rate    437\n",
       "Median Age             437\n",
       "dtype: int64"
      ]
     },
     "execution_count": 17,
     "metadata": {},
     "output_type": "execute_result"
    }
   ],
   "source": [
    "df_filtered.isna().sum()"
   ]
  },
  {
   "cell_type": "code",
   "execution_count": 18,
   "metadata": {},
   "outputs": [],
   "source": [
    "df_filtered = df_filtered.dropna()"
   ]
  },
  {
   "cell_type": "code",
   "execution_count": 19,
   "metadata": {},
   "outputs": [
    {
     "data": {
      "text/plain": [
       "Country Name           0\n",
       "Year                   0\n",
       "Natural Growth Rate    0\n",
       "Median Age             0\n",
       "dtype: int64"
      ]
     },
     "execution_count": 19,
     "metadata": {},
     "output_type": "execute_result"
    }
   ],
   "source": [
    "df_filtered.isna().sum()"
   ]
  },
  {
   "cell_type": "code",
   "execution_count": 20,
   "metadata": {},
   "outputs": [
    {
     "name": "stdout",
     "output_type": "stream",
     "text": [
      "<class 'pandas.core.frame.DataFrame'>\n",
      "Index: 10710 entries, 30 to 58147\n",
      "Data columns (total 4 columns):\n",
      " #   Column               Non-Null Count  Dtype  \n",
      "---  ------               --------------  -----  \n",
      " 0   Country Name         10710 non-null  object \n",
      " 1   Year                 10710 non-null  float64\n",
      " 2   Natural Growth Rate  10710 non-null  float64\n",
      " 3   Median Age           10710 non-null  float64\n",
      "dtypes: float64(3), object(1)\n",
      "memory usage: 418.4+ KB\n"
     ]
    }
   ],
   "source": [
    "df_filtered.info()"
   ]
  },
  {
   "cell_type": "code",
   "execution_count": 22,
   "metadata": {},
   "outputs": [],
   "source": [
    "df_filtered.to_csv('/Users/javi/Desktop/Ironhack/Entregas_de_github/Final-Project-at-Ironhack/Data/Cleaned/population-growth-rate-vs-median-age.csv',index=False)"
   ]
  },
  {
   "cell_type": "code",
   "execution_count": null,
   "metadata": {},
   "outputs": [],
   "source": []
  }
 ],
 "metadata": {
  "kernelspec": {
   "display_name": "Python 3",
   "language": "python",
   "name": "python3"
  },
  "language_info": {
   "codemirror_mode": {
    "name": "ipython",
    "version": 3
   },
   "file_extension": ".py",
   "mimetype": "text/x-python",
   "name": "python",
   "nbconvert_exporter": "python",
   "pygments_lexer": "ipython3",
   "version": "3.9.6"
  }
 },
 "nbformat": 4,
 "nbformat_minor": 2
}
