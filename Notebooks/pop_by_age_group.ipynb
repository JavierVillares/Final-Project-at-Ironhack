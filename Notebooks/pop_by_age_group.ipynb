{
 "cells": [
  {
   "cell_type": "code",
   "execution_count": 11,
   "metadata": {},
   "outputs": [],
   "source": [
    "import pandas as pd\n",
    "import numpy as np\n",
    "import warnings\n",
    "\n",
    "warnings.simplefilter(action='ignore', category=FutureWarning)"
   ]
  },
  {
   "cell_type": "code",
   "execution_count": 12,
   "metadata": {},
   "outputs": [],
   "source": [
    "url =('/Users/javi/Desktop/Ironhack/Entregas_de_github/Final-Project-at-Ironhack/Data/Raw data/World demographic/population-growth-rate-vs-median-age.csv')"
   ]
  },
  {
   "cell_type": "code",
   "execution_count": 14,
   "metadata": {},
   "outputs": [],
   "source": [
    "df = pd.read_csv(url, sep=';')"
   ]
  },
  {
   "cell_type": "code",
   "execution_count": 15,
   "metadata": {},
   "outputs": [
    {
     "data": {
      "text/plain": [
       "(58335, 4)"
      ]
     },
     "execution_count": 15,
     "metadata": {},
     "output_type": "execute_result"
    }
   ],
   "source": [
    "df.shape"
   ]
  },
  {
   "cell_type": "code",
   "execution_count": 20,
   "metadata": {},
   "outputs": [
    {
     "data": {
      "text/html": [
       "<div>\n",
       "<style scoped>\n",
       "    .dataframe tbody tr th:only-of-type {\n",
       "        vertical-align: middle;\n",
       "    }\n",
       "\n",
       "    .dataframe tbody tr th {\n",
       "        vertical-align: top;\n",
       "    }\n",
       "\n",
       "    .dataframe thead th {\n",
       "        text-align: right;\n",
       "    }\n",
       "</style>\n",
       "<table border=\"1\" class=\"dataframe\">\n",
       "  <thead>\n",
       "    <tr style=\"text-align: right;\">\n",
       "      <th></th>\n",
       "      <th>Entity</th>\n",
       "      <th>Year</th>\n",
       "      <th>Natural growth rate - Sex: all - Age: all - Variant: estimates</th>\n",
       "      <th>Median age - Sex: all - Age: all - Variant: estimates</th>\n",
       "    </tr>\n",
       "  </thead>\n",
       "  <tbody>\n",
       "    <tr>\n",
       "      <th>30</th>\n",
       "      <td>Afghanistan</td>\n",
       "      <td>1980.0</td>\n",
       "      <td>2.63</td>\n",
       "      <td>15.9</td>\n",
       "    </tr>\n",
       "    <tr>\n",
       "      <th>31</th>\n",
       "      <td>Afghanistan</td>\n",
       "      <td>1981.0</td>\n",
       "      <td>2.67</td>\n",
       "      <td>15.8</td>\n",
       "    </tr>\n",
       "    <tr>\n",
       "      <th>32</th>\n",
       "      <td>Afghanistan</td>\n",
       "      <td>1982.0</td>\n",
       "      <td>2.45</td>\n",
       "      <td>15.7</td>\n",
       "    </tr>\n",
       "    <tr>\n",
       "      <th>33</th>\n",
       "      <td>Afghanistan</td>\n",
       "      <td>1983.0</td>\n",
       "      <td>2.50</td>\n",
       "      <td>15.6</td>\n",
       "    </tr>\n",
       "    <tr>\n",
       "      <th>34</th>\n",
       "      <td>Afghanistan</td>\n",
       "      <td>1984.0</td>\n",
       "      <td>2.02</td>\n",
       "      <td>15.5</td>\n",
       "    </tr>\n",
       "  </tbody>\n",
       "</table>\n",
       "</div>"
      ],
      "text/plain": [
       "         Entity    Year  \\\n",
       "30  Afghanistan  1980.0   \n",
       "31  Afghanistan  1981.0   \n",
       "32  Afghanistan  1982.0   \n",
       "33  Afghanistan  1983.0   \n",
       "34  Afghanistan  1984.0   \n",
       "\n",
       "    Natural growth rate - Sex: all - Age: all - Variant: estimates  \\\n",
       "30                                               2.63                \n",
       "31                                               2.67                \n",
       "32                                               2.45                \n",
       "33                                               2.50                \n",
       "34                                               2.02                \n",
       "\n",
       "    Median age - Sex: all - Age: all - Variant: estimates  \n",
       "30                                               15.9      \n",
       "31                                               15.8      \n",
       "32                                               15.7      \n",
       "33                                               15.6      \n",
       "34                                               15.5      "
      ]
     },
     "execution_count": 20,
     "metadata": {},
     "output_type": "execute_result"
    }
   ],
   "source": [
    "df.head()"
   ]
  },
  {
   "cell_type": "code",
   "execution_count": 17,
   "metadata": {},
   "outputs": [
    {
     "data": {
      "text/plain": [
       "True"
      ]
     },
     "execution_count": 17,
     "metadata": {},
     "output_type": "execute_result"
    }
   ],
   "source": [
    "df.isnull().values.any()"
   ]
  },
  {
   "cell_type": "code",
   "execution_count": 18,
   "metadata": {},
   "outputs": [],
   "source": [
    "df = df[df['Year'] >= 1980]\n"
   ]
  },
  {
   "cell_type": "code",
   "execution_count": 19,
   "metadata": {},
   "outputs": [
    {
     "data": {
      "text/html": [
       "<div>\n",
       "<style scoped>\n",
       "    .dataframe tbody tr th:only-of-type {\n",
       "        vertical-align: middle;\n",
       "    }\n",
       "\n",
       "    .dataframe tbody tr th {\n",
       "        vertical-align: top;\n",
       "    }\n",
       "\n",
       "    .dataframe thead th {\n",
       "        text-align: right;\n",
       "    }\n",
       "</style>\n",
       "<table border=\"1\" class=\"dataframe\">\n",
       "  <thead>\n",
       "    <tr style=\"text-align: right;\">\n",
       "      <th></th>\n",
       "      <th>Entity</th>\n",
       "      <th>Year</th>\n",
       "      <th>Natural growth rate - Sex: all - Age: all - Variant: estimates</th>\n",
       "      <th>Median age - Sex: all - Age: all - Variant: estimates</th>\n",
       "    </tr>\n",
       "  </thead>\n",
       "  <tbody>\n",
       "    <tr>\n",
       "      <th>30</th>\n",
       "      <td>Afghanistan</td>\n",
       "      <td>1980.0</td>\n",
       "      <td>2.63</td>\n",
       "      <td>15.9</td>\n",
       "    </tr>\n",
       "    <tr>\n",
       "      <th>31</th>\n",
       "      <td>Afghanistan</td>\n",
       "      <td>1981.0</td>\n",
       "      <td>2.67</td>\n",
       "      <td>15.8</td>\n",
       "    </tr>\n",
       "    <tr>\n",
       "      <th>32</th>\n",
       "      <td>Afghanistan</td>\n",
       "      <td>1982.0</td>\n",
       "      <td>2.45</td>\n",
       "      <td>15.7</td>\n",
       "    </tr>\n",
       "    <tr>\n",
       "      <th>33</th>\n",
       "      <td>Afghanistan</td>\n",
       "      <td>1983.0</td>\n",
       "      <td>2.50</td>\n",
       "      <td>15.6</td>\n",
       "    </tr>\n",
       "    <tr>\n",
       "      <th>34</th>\n",
       "      <td>Afghanistan</td>\n",
       "      <td>1984.0</td>\n",
       "      <td>2.02</td>\n",
       "      <td>15.5</td>\n",
       "    </tr>\n",
       "    <tr>\n",
       "      <th>...</th>\n",
       "      <td>...</td>\n",
       "      <td>...</td>\n",
       "      <td>...</td>\n",
       "      <td>...</td>\n",
       "    </tr>\n",
       "    <tr>\n",
       "      <th>58143</th>\n",
       "      <td>Zimbabwe</td>\n",
       "      <td>2017.0</td>\n",
       "      <td>2.42</td>\n",
       "      <td>17.3</td>\n",
       "    </tr>\n",
       "    <tr>\n",
       "      <th>58144</th>\n",
       "      <td>Zimbabwe</td>\n",
       "      <td>2018.0</td>\n",
       "      <td>2.41</td>\n",
       "      <td>17.5</td>\n",
       "    </tr>\n",
       "    <tr>\n",
       "      <th>58145</th>\n",
       "      <td>Zimbabwe</td>\n",
       "      <td>2019.0</td>\n",
       "      <td>2.35</td>\n",
       "      <td>17.7</td>\n",
       "    </tr>\n",
       "    <tr>\n",
       "      <th>58146</th>\n",
       "      <td>Zimbabwe</td>\n",
       "      <td>2020.0</td>\n",
       "      <td>2.29</td>\n",
       "      <td>17.9</td>\n",
       "    </tr>\n",
       "    <tr>\n",
       "      <th>58147</th>\n",
       "      <td>Zimbabwe</td>\n",
       "      <td>2021.0</td>\n",
       "      <td>2.15</td>\n",
       "      <td>18.1</td>\n",
       "    </tr>\n",
       "  </tbody>\n",
       "</table>\n",
       "<p>11147 rows × 4 columns</p>\n",
       "</div>"
      ],
      "text/plain": [
       "            Entity    Year  \\\n",
       "30     Afghanistan  1980.0   \n",
       "31     Afghanistan  1981.0   \n",
       "32     Afghanistan  1982.0   \n",
       "33     Afghanistan  1983.0   \n",
       "34     Afghanistan  1984.0   \n",
       "...            ...     ...   \n",
       "58143     Zimbabwe  2017.0   \n",
       "58144     Zimbabwe  2018.0   \n",
       "58145     Zimbabwe  2019.0   \n",
       "58146     Zimbabwe  2020.0   \n",
       "58147     Zimbabwe  2021.0   \n",
       "\n",
       "       Natural growth rate - Sex: all - Age: all - Variant: estimates  \\\n",
       "30                                                  2.63                \n",
       "31                                                  2.67                \n",
       "32                                                  2.45                \n",
       "33                                                  2.50                \n",
       "34                                                  2.02                \n",
       "...                                                  ...                \n",
       "58143                                               2.42                \n",
       "58144                                               2.41                \n",
       "58145                                               2.35                \n",
       "58146                                               2.29                \n",
       "58147                                               2.15                \n",
       "\n",
       "       Median age - Sex: all - Age: all - Variant: estimates  \n",
       "30                                                  15.9      \n",
       "31                                                  15.8      \n",
       "32                                                  15.7      \n",
       "33                                                  15.6      \n",
       "34                                                  15.5      \n",
       "...                                                  ...      \n",
       "58143                                               17.3      \n",
       "58144                                               17.5      \n",
       "58145                                               17.7      \n",
       "58146                                               17.9      \n",
       "58147                                               18.1      \n",
       "\n",
       "[11147 rows x 4 columns]"
      ]
     },
     "execution_count": 19,
     "metadata": {},
     "output_type": "execute_result"
    }
   ],
   "source": [
    "df"
   ]
  },
  {
   "cell_type": "code",
   "execution_count": 32,
   "metadata": {},
   "outputs": [
    {
     "name": "stdout",
     "output_type": "stream",
     "text": [
      "No country has more than 35% NaN values.\n"
     ]
    }
   ],
   "source": [
    "# Filter the DataFrame to keep only the rows from 1980 onwards\n",
    "df = df[df['Year'] >= 1980]\n",
    "\n",
    "# Function to check the percentage of NaN values in each column\n",
    "def check_nan_percentage(column):\n",
    "    nan_count = column.isna().sum()\n",
    "    total_count = len(column)\n",
    "    nan_percentage = nan_count / total_count\n",
    "    return nan_percentage\n",
    "\n",
    "# List to store countries with more than 35% NaN values\n",
    "countries_with_high_nan = []\n",
    "\n",
    "# Create a copy of the dataframe to modify\n",
    "df_cleaned = df.copy()\n",
    "\n",
    "# Process each country\n",
    "for country in df['Entity'].unique():\n",
    "    country_df = df[df['Entity'] == country]\n",
    "    nan_percentages = country_df.apply(check_nan_percentage, axis=0)\n",
    "    \n",
    "    if nan_percentages.mean() > 0.35:\n",
    "        countries_with_high_nan.append(country)\n",
    "    else:\n",
    "        # Fill NaN values column-wise for countries with <= 35% NaN values\n",
    "        country_df = country_df.ffill(axis=0).bfill(axis=0).interpolate(method='linear', axis=0)\n",
    "        df_cleaned.loc[df['Entity'] == country, :] = country_df\n",
    "\n",
    "# Display the countries with more than 35% NaN values\n",
    "if countries_with_high_nan:\n",
    "    print(\"Countries with more than 35% NaN values:\")\n",
    "    for country in countries_with_high_nan:\n",
    "        print(country)\n",
    "else:\n",
    "    print(\"No country has more than 35% NaN values.\")"
   ]
  },
  {
   "cell_type": "code",
   "execution_count": 45,
   "metadata": {},
   "outputs": [],
   "source": [
    "df = df.drop(columns=['Code'])"
   ]
  },
  {
   "cell_type": "code",
   "execution_count": 46,
   "metadata": {},
   "outputs": [
    {
     "data": {
      "text/plain": [
       "False"
      ]
     },
     "execution_count": 46,
     "metadata": {},
     "output_type": "execute_result"
    }
   ],
   "source": [
    "df.isnull().values.any()"
   ]
  },
  {
   "cell_type": "code",
   "execution_count": 1,
   "metadata": {},
   "outputs": [
    {
     "ename": "NameError",
     "evalue": "name 'df' is not defined",
     "output_type": "error",
     "traceback": [
      "\u001b[0;31m---------------------------------------------------------------------------\u001b[0m",
      "\u001b[0;31mNameError\u001b[0m                                 Traceback (most recent call last)",
      "Cell \u001b[0;32mIn[1], line 1\u001b[0m\n\u001b[0;32m----> 1\u001b[0m \u001b[43mdf\u001b[49m\u001b[38;5;241m.\u001b[39minfo()\n",
      "\u001b[0;31mNameError\u001b[0m: name 'df' is not defined"
     ]
    }
   ],
   "source": [
    "df.info()"
   ]
  },
  {
   "cell_type": "code",
   "execution_count": 47,
   "metadata": {},
   "outputs": [],
   "source": [
    "df.to_csv('/Users/javi/Desktop/Ironhack/Entregas_de_github/Final-Project-at-Ironhack/Data/Raw data/World demographic/population-by-age-group_cleaned.csv',index=False,encoding='latin-1')"
   ]
  },
  {
   "cell_type": "code",
   "execution_count": 48,
   "metadata": {},
   "outputs": [],
   "source": [
    "url = ('/Users/javi/Desktop/Ironhack/Entregas_de_github/Final-Project-at-Ironhack/Data/Raw data/World demographic/population-by-age-group_cleaned.csv')"
   ]
  },
  {
   "cell_type": "code",
   "execution_count": 49,
   "metadata": {},
   "outputs": [],
   "source": [
    "df = pd.read_csv(url)"
   ]
  },
  {
   "cell_type": "code",
   "execution_count": 50,
   "metadata": {},
   "outputs": [
    {
     "data": {
      "text/html": [
       "<div>\n",
       "<style scoped>\n",
       "    .dataframe tbody tr th:only-of-type {\n",
       "        vertical-align: middle;\n",
       "    }\n",
       "\n",
       "    .dataframe tbody tr th {\n",
       "        vertical-align: top;\n",
       "    }\n",
       "\n",
       "    .dataframe thead th {\n",
       "        text-align: right;\n",
       "    }\n",
       "</style>\n",
       "<table border=\"1\" class=\"dataframe\">\n",
       "  <thead>\n",
       "    <tr style=\"text-align: right;\">\n",
       "      <th></th>\n",
       "      <th>Entity</th>\n",
       "      <th>Year</th>\n",
       "      <th>Population by broad age group - Sex: all - Age: 65+ - Variant: estimates</th>\n",
       "      <th>Population by broad age group - Sex: all - Age: 25-64 - Variant: estimates</th>\n",
       "      <th>Population by broad age group - Sex: all - Age: 15-24 - Variant: estimates</th>\n",
       "      <th>Population by broad age group - Sex: all - Age: 5-14 - Variant: estimates</th>\n",
       "      <th>Population by broad age group - Sex: all - Age: 0-4 - Variant: estimates</th>\n",
       "    </tr>\n",
       "  </thead>\n",
       "  <tbody>\n",
       "    <tr>\n",
       "      <th>0</th>\n",
       "      <td>Afghanistan</td>\n",
       "      <td>1950</td>\n",
       "      <td>213022</td>\n",
       "      <td>2773093</td>\n",
       "      <td>1425494</td>\n",
       "      <td>1820573</td>\n",
       "      <td>1248282</td>\n",
       "    </tr>\n",
       "    <tr>\n",
       "      <th>1</th>\n",
       "      <td>Afghanistan</td>\n",
       "      <td>1951</td>\n",
       "      <td>216096</td>\n",
       "      <td>2803308</td>\n",
       "      <td>1446694</td>\n",
       "      <td>1858587</td>\n",
       "      <td>1246857</td>\n",
       "    </tr>\n",
       "    <tr>\n",
       "      <th>2</th>\n",
       "      <td>Afghanistan</td>\n",
       "      <td>1952</td>\n",
       "      <td>219028</td>\n",
       "      <td>2834902</td>\n",
       "      <td>1468534</td>\n",
       "      <td>1896850</td>\n",
       "      <td>1248220</td>\n",
       "    </tr>\n",
       "    <tr>\n",
       "      <th>3</th>\n",
       "      <td>Afghanistan</td>\n",
       "      <td>1953</td>\n",
       "      <td>221925</td>\n",
       "      <td>2866392</td>\n",
       "      <td>1489850</td>\n",
       "      <td>1931657</td>\n",
       "      <td>1254725</td>\n",
       "    </tr>\n",
       "    <tr>\n",
       "      <th>4</th>\n",
       "      <td>Afghanistan</td>\n",
       "      <td>1954</td>\n",
       "      <td>224755</td>\n",
       "      <td>2898163</td>\n",
       "      <td>1510311</td>\n",
       "      <td>1963243</td>\n",
       "      <td>1267817</td>\n",
       "    </tr>\n",
       "    <tr>\n",
       "      <th>...</th>\n",
       "      <td>...</td>\n",
       "      <td>...</td>\n",
       "      <td>...</td>\n",
       "      <td>...</td>\n",
       "      <td>...</td>\n",
       "      <td>...</td>\n",
       "      <td>...</td>\n",
       "    </tr>\n",
       "    <tr>\n",
       "      <th>18283</th>\n",
       "      <td>Zimbabwe</td>\n",
       "      <td>2017</td>\n",
       "      <td>476920</td>\n",
       "      <td>5049812</td>\n",
       "      <td>3006441</td>\n",
       "      <td>3930524</td>\n",
       "      <td>2287404</td>\n",
       "    </tr>\n",
       "    <tr>\n",
       "      <th>18284</th>\n",
       "      <td>Zimbabwe</td>\n",
       "      <td>2018</td>\n",
       "      <td>495726</td>\n",
       "      <td>5171333</td>\n",
       "      <td>3093500</td>\n",
       "      <td>4008056</td>\n",
       "      <td>2283576</td>\n",
       "    </tr>\n",
       "    <tr>\n",
       "      <th>18285</th>\n",
       "      <td>Zimbabwe</td>\n",
       "      <td>2019</td>\n",
       "      <td>513733</td>\n",
       "      <td>5297464</td>\n",
       "      <td>3176011</td>\n",
       "      <td>4085658</td>\n",
       "      <td>2281740</td>\n",
       "    </tr>\n",
       "    <tr>\n",
       "      <th>18286</th>\n",
       "      <td>Zimbabwe</td>\n",
       "      <td>2020</td>\n",
       "      <td>529048</td>\n",
       "      <td>5431480</td>\n",
       "      <td>3260114</td>\n",
       "      <td>4161916</td>\n",
       "      <td>2287105</td>\n",
       "    </tr>\n",
       "    <tr>\n",
       "      <th>18287</th>\n",
       "      <td>Zimbabwe</td>\n",
       "      <td>2021</td>\n",
       "      <td>537915</td>\n",
       "      <td>5572892</td>\n",
       "      <td>3342436</td>\n",
       "      <td>4240570</td>\n",
       "      <td>2299712</td>\n",
       "    </tr>\n",
       "  </tbody>\n",
       "</table>\n",
       "<p>18288 rows × 7 columns</p>\n",
       "</div>"
      ],
      "text/plain": [
       "            Entity  Year  \\\n",
       "0      Afghanistan  1950   \n",
       "1      Afghanistan  1951   \n",
       "2      Afghanistan  1952   \n",
       "3      Afghanistan  1953   \n",
       "4      Afghanistan  1954   \n",
       "...            ...   ...   \n",
       "18283     Zimbabwe  2017   \n",
       "18284     Zimbabwe  2018   \n",
       "18285     Zimbabwe  2019   \n",
       "18286     Zimbabwe  2020   \n",
       "18287     Zimbabwe  2021   \n",
       "\n",
       "       Population by broad age group - Sex: all - Age: 65+ - Variant: estimates  \\\n",
       "0                                                 213022                          \n",
       "1                                                 216096                          \n",
       "2                                                 219028                          \n",
       "3                                                 221925                          \n",
       "4                                                 224755                          \n",
       "...                                                  ...                          \n",
       "18283                                             476920                          \n",
       "18284                                             495726                          \n",
       "18285                                             513733                          \n",
       "18286                                             529048                          \n",
       "18287                                             537915                          \n",
       "\n",
       "       Population by broad age group - Sex: all - Age: 25-64 - Variant: estimates  \\\n",
       "0                                                2773093                            \n",
       "1                                                2803308                            \n",
       "2                                                2834902                            \n",
       "3                                                2866392                            \n",
       "4                                                2898163                            \n",
       "...                                                  ...                            \n",
       "18283                                            5049812                            \n",
       "18284                                            5171333                            \n",
       "18285                                            5297464                            \n",
       "18286                                            5431480                            \n",
       "18287                                            5572892                            \n",
       "\n",
       "       Population by broad age group - Sex: all - Age: 15-24 - Variant: estimates  \\\n",
       "0                                                1425494                            \n",
       "1                                                1446694                            \n",
       "2                                                1468534                            \n",
       "3                                                1489850                            \n",
       "4                                                1510311                            \n",
       "...                                                  ...                            \n",
       "18283                                            3006441                            \n",
       "18284                                            3093500                            \n",
       "18285                                            3176011                            \n",
       "18286                                            3260114                            \n",
       "18287                                            3342436                            \n",
       "\n",
       "       Population by broad age group - Sex: all - Age: 5-14 - Variant: estimates  \\\n",
       "0                                                1820573                           \n",
       "1                                                1858587                           \n",
       "2                                                1896850                           \n",
       "3                                                1931657                           \n",
       "4                                                1963243                           \n",
       "...                                                  ...                           \n",
       "18283                                            3930524                           \n",
       "18284                                            4008056                           \n",
       "18285                                            4085658                           \n",
       "18286                                            4161916                           \n",
       "18287                                            4240570                           \n",
       "\n",
       "       Population by broad age group - Sex: all - Age: 0-4 - Variant: estimates  \n",
       "0                                                1248282                         \n",
       "1                                                1246857                         \n",
       "2                                                1248220                         \n",
       "3                                                1254725                         \n",
       "4                                                1267817                         \n",
       "...                                                  ...                         \n",
       "18283                                            2287404                         \n",
       "18284                                            2283576                         \n",
       "18285                                            2281740                         \n",
       "18286                                            2287105                         \n",
       "18287                                            2299712                         \n",
       "\n",
       "[18288 rows x 7 columns]"
      ]
     },
     "execution_count": 50,
     "metadata": {},
     "output_type": "execute_result"
    }
   ],
   "source": [
    "df"
   ]
  },
  {
   "cell_type": "code",
   "execution_count": 56,
   "metadata": {},
   "outputs": [
    {
     "data": {
      "image/png": "[encoded data removed]",
      "text/plain": [
       "<Figure size 1200x600 with 1 Axes>"
      ]
     },
     "metadata": {},
     "output_type": "display_data"
    }
   ],
   "source": [
    "import matplotlib.pyplot as plt\n",
    "\n",
    "# Filter data for a specific country\n",
    "country = 'World'\n",
    "country_data = df[df['Entity'] == country]\n",
    "\n",
    "# Plot population trends for different age groups\n",
    "plt.figure(figsize=(12, 6))\n",
    "for age_group in country_data.columns[3:]:\n",
    "    plt.plot(country_data['Year'], country_data[age_group], label=age_group)\n",
    "\n",
    "plt.title(f'Population Trends in {country}')\n",
    "plt.xlabel('Year')\n",
    "plt.ylabel('Population')\n",
    "plt.legend()\n",
    "plt.show()\n"
   ]
  },
  {
   "cell_type": "code",
   "execution_count": null,
   "metadata": {},
   "outputs": [],
   "source": []
  }
 ],
 "metadata": {
  "kernelspec": {
   "display_name": "Python 3",
   "language": "python",
   "name": "python3"
  },
  "language_info": {
   "codemirror_mode": {
    "name": "ipython",
    "version": 3
   },
   "file_extension": ".py",
   "mimetype": "text/x-python",
   "name": "python",
   "nbconvert_exporter": "python",
   "pygments_lexer": "ipython3",
   "version": "3.9.6"
  }
 },
 "nbformat": 4,
 "nbformat_minor": 2
}
